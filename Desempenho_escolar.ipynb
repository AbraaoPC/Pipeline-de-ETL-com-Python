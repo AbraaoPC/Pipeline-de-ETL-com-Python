{
 "cells": [
  {
   "cell_type": "markdown",
   "metadata": {},
   "source": [
    "# <font color='blue'>by AbraãoPC</font>\n",
    "\n",
    "## <font color='blue'>Manipulando dados de uma planinha do Excel</font>\n",
    "\n",
    "## <font color='blue'>Desempenho Escolar</font>"
   ]
  },
  {
   "cell_type": "raw",
   "metadata": {},
   "source": [
    "# Inicio dos modulos"
   ]
  },
  {
   "cell_type": "code",
   "execution_count": null,
   "metadata": {},
   "outputs": [],
   "source": [
    "import pandas as pd\n",
    "import numpy as np\n",
    "from urllib.request import urlopen\n",
    "\n",
    "#arquivo = \"Planilha 1 - Machine Learning.xlsx\"\n",
    "# Função para conversão de valores\n",
    "def convert(value):\n",
    "    try:\n",
    "        return float(value)\n",
    "    except (ValueError, TypeError):\n",
    "        try:\n",
    "            return float(value.replace(',', '.'))\n",
    "        except (ValueError, AttributeError):\n",
    "            return np.nan  # retorna a celula vazia\n",
    "        \n",
    "\n",
    "\n",
    "# **** LOCAL DO ARQUIVO NO COMPUTADOR   ******\n",
    "arquivo_base = \"c:/users/abraaopc/downloads/Planilha2_Dados_para_Analise.xlsx\"\n",
    "\n",
    "\n",
    "try:\n",
    "    #  Lendo a Planinha\n",
    "    #df = pd.read_excel(arquivo) #ler dados do arquivo para um data frame df\n",
    "    df2 = pd.read_excel(arquivo_base) #ler dados do arquivo para um data frame df\n",
    "    \n",
    "    df2_colunas = list(df2.columns)\n",
    "    # Lista de colunas que precisam de conversão\n",
    "    columns_to_convert = ['avaliação 1', 'avaliação 2', 'avaliação 3', 'avaliação 4', 'média geral', 'recuperação', 'média final', 'frequência']\n",
    "\n",
    "    # Loop para fazer a conversão nas colunas\n",
    "    for col in columns_to_convert:\n",
    "        if not 'freq' in col:\n",
    "            df2[col] = df2[col].apply(convert)\n",
    "    \n",
    "    # calcula média geral\n",
    "    df2['média geral'] = round((df2['avaliação 1'] + df2['avaliação 2'] + df2['avaliação 3'] + df2['avaliação 4']) / 4,1)\n",
    "    # calcula média final\n",
    "    df2['média final'] = df2.apply(lambda row: max(row['recuperação'], row['média geral']) if row['média geral'] < 5 else row['média geral'], axis=1)\n",
    "      \n",
    "    # coloca APROVADO para media geral >=5 e frequencia >= 75\n",
    "    df2.loc[(df2['média geral'] >= 5.0)  &  (df2['frequência'] >= 75), 'status'] = str(\"APROVADO\")\n",
    "   \n",
    "    # coloca APROVADO para media final >=5 \n",
    "    df2.loc[df2['média final'] >= 5.0, 'status'] = str(\"APROVADO\")\n",
    "   \n",
    "    # coloca REPROVADO para media final <5 \n",
    "    df2.loc[df2['média final'] < 5.0, 'status'] = str(\"REPROVADO\")\n",
    "    \n",
    "    display(df2)\n",
    "    df2_Resumo_final = df2['status'].value_counts() #conta o total por grupo de dados\n",
    "    display(\"***** RESUMO *****\")\n",
    "    display(df2_Resumo_final)\n",
    "    \n",
    "    try:\n",
    "        #Salva o arquivo com dados final\n",
    "        df2_dados_final = pd.concat([df2,df2_Resumo_final],ignore_index=True)\n",
    "        posicao = arquivo_base.find(\".\")\n",
    "        novo_nome = arquivo_base[:posicao]+\"_dados_final\"+arquivo_base[posicao:]\n",
    "        df2_dados_final.to_excel(novo_nome, index=False)\n",
    "  \n",
    "        display(\" \")\n",
    "        display(\"***** ALUNOS FALTANDO NOTAS *****\")\n",
    "   \n",
    "        df2_falta_nota = df2.loc[(df2['status'] != \"APROVADO\") & (df2['status'] != \"REPROVADO\")]\n",
    "        display(df2_falta_nota)\n",
    "    \n",
    "        #Salva o Arquivo com Alunos Faltando Notas\n",
    "        posicao = arquivo_base.find(\".\")\n",
    "        novo_nome = arquivo_base[:posicao]+\"_Faltando_Notas\"+arquivo_base[posicao:]\n",
    "        df2_falta_nota.to_excel(novo_nome, index=False)\n",
    "    except:\n",
    "        print(\"****  Não foi possivel GRAVAR o arquivo verifique o nome do arquivo e caminho se esta correto   ****\")\n",
    "        \n",
    "except:\n",
    "    print(\"****  Não foi possivel abrir o arquivo verifique o nome do arquivo e caminho se esta correto   ****\")\n",
    "\n",
    "\n"
   ]
  },
  {
   "cell_type": "markdown",
   "metadata": {},
   "source": [
    "# Fim"
   ]
  }
 ],
 "metadata": {
  "kernelspec": {
   "display_name": "Python 3 (ipykernel)",
   "language": "python",
   "name": "python3"
  },
  "language_info": {
   "codemirror_mode": {
    "name": "ipython",
    "version": 3
   },
   "file_extension": ".py",
   "mimetype": "text/x-python",
   "name": "python",
   "nbconvert_exporter": "python",
   "pygments_lexer": "ipython3",
   "version": "3.9.13"
  }
 },
 "nbformat": 4,
 "nbformat_minor": 1
}
